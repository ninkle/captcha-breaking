{
 "cells": [
  {
   "cell_type": "code",
   "execution_count": 1,
   "metadata": {},
   "outputs": [],
   "source": [
    "import os\n",
    "import json\n",
    "import random\n",
    "from time import clock\n",
    "from PIL import Image\n",
    "from skimage.measure import block_reduce\n",
    "from sklearn.model_selection import train_test_split\n",
    "from scipy.misc import imread\n",
    "import matplotlib.pyplot as plt\n",
    "import numpy as np\n",
    "import tensorflow as tf\n",
    "import pandas as pd"
   ]
  },
  {
   "cell_type": "markdown",
   "metadata": {},
   "source": [
    "## Loading Tiny Imagenet"
   ]
  },
  {
   "cell_type": "code",
   "execution_count": 2,
   "metadata": {},
   "outputs": [
    {
     "name": "stdout",
     "output_type": "stream",
     "text": [
      "Total time elapsed: 181.653852\n"
     ]
    }
   ],
   "source": [
    "data = {}\n",
    "t1 = clock()\n",
    "for folder in os.listdir(\"tiny-imagenet-200/train\"):\n",
    "    if folder != \".DS_Store\":\n",
    "        for subfolder in os.listdir(\"tiny-imagenet-200/train/\"+folder):\n",
    "            if subfolder == \"images\":\n",
    "                for file in os.listdir(\"tiny-imagenet-200/train/\"+folder+\"/\"+subfolder):\n",
    "                    img = Image.open(\"tiny-imagenet-200/train/\"+folder+\"/\"+subfolder+\"/\"+file, \"r\")\n",
    "                    if np.array(img).shape == (64, 64, 3):  # don't add grayscale images\n",
    "                        if file[:9] in data.keys():\n",
    "                            data[file[:9]].append(np.array(img.resize((256, 256))))\n",
    "                        else:\n",
    "                            data[file[:9]] = [np.array(img.resize((256, 256)))]\n",
    "t2 = clock()\n",
    "print(\"Total time elapsed:\", t2-t1)"
   ]
  },
  {
   "cell_type": "code",
   "execution_count": 3,
   "metadata": {},
   "outputs": [],
   "source": [
    "ids = list(data.keys())"
   ]
  },
  {
   "cell_type": "code",
   "execution_count": 4,
   "metadata": {},
   "outputs": [],
   "source": [
    "id_dict = {}\n",
    "with open(\"semantic_map.txt\") as labels:\n",
    "    for line in labels:\n",
    "        if line != \"\\n\":\n",
    "            key = line[:9]\n",
    "            tags = line[10:-1].split(\", \")\n",
    "            if key in ids:\n",
    "                id_dict[key] = tags"
   ]
  },
  {
   "cell_type": "code",
   "execution_count": 5,
   "metadata": {},
   "outputs": [
    {
     "name": "stdout",
     "output_type": "stream",
     "text": [
      "A sample pixel array for image class n02795169 ['barrel', 'cask'] :\n",
      "Image is of size: (256, 256, 3)\n"
     ]
    },
    {
     "data": {
      "image/png": "[encoded data removed]",
      "text/plain": [
       "<matplotlib.figure.Figure at 0x1c1f6d2898>"
      ]
     },
     "metadata": {},
     "output_type": "display_data"
    }
   ],
   "source": [
    "for im, arrs in data.items():\n",
    "    print(\"A sample pixel array for image class\", im, id_dict[im], \":\")\n",
    "    print(\"Image is of size:\", arrs[1].shape)\n",
    "    plt.imshow(arrs[1])\n",
    "    break\n",
    "plt.show()"
   ]
  },
  {
   "cell_type": "code",
   "execution_count": 6,
   "metadata": {},
   "outputs": [],
   "source": [
    "def one_hot(classes, index):\n",
    "    vec = np.zeros(classes)\n",
    "    vec[index] = 1\n",
    "    return vec"
   ]
  },
  {
   "cell_type": "code",
   "execution_count": 8,
   "metadata": {},
   "outputs": [
    {
     "name": "stdout",
     "output_type": "stream",
     "text": [
      "Time elapsed: 0.7293540000000007\n"
     ]
    }
   ],
   "source": [
    "t1 = clock()\n",
    "x = []\n",
    "y = []\n",
    "for key, vals in data.items():\n",
    "    x += vals\n",
    "    for i in range(len(vals)):\n",
    "        y.append(one_hot(200, ids.index(key)))\n",
    "t2 = clock()\n",
    "print(\"Time elapsed:\", t2-t1)"
   ]
  },
  {
   "cell_type": "code",
   "execution_count": 9,
   "metadata": {},
   "outputs": [
    {
     "data": {
      "text/plain": [
       "True"
      ]
     },
     "execution_count": 9,
     "metadata": {},
     "output_type": "execute_result"
    }
   ],
   "source": [
    "len(y) == len(x)"
   ]
  },
  {
   "cell_type": "code",
   "execution_count": 10,
   "metadata": {},
   "outputs": [],
   "source": [
    "# shuffle data\n",
    "combined = list(zip(x, y))\n",
    "random.shuffle(combined)\n",
    "\n",
    "x[:], y[:] = zip(*combined)"
   ]
  },
  {
   "cell_type": "code",
   "execution_count": 92,
   "metadata": {},
   "outputs": [],
   "source": [
    "x_train, x_test, y_train, y_test = train_test_split(x, y, test_size=0.2, shuffle=True)"
   ]
  },
  {
   "cell_type": "markdown",
   "metadata": {},
   "source": [
    "## Alexnet"
   ]
  },
  {
   "cell_type": "markdown",
   "metadata": {},
   "source": [
    "### Define Layer Functions"
   ]
  },
  {
   "cell_type": "code",
   "execution_count": 38,
   "metadata": {},
   "outputs": [],
   "source": [
    "def conv(x, filter_size, num_filters, stride, name, padding=\"SAME\", groups=1):\n",
    "    channels = int(x.shape[-1])\n",
    "    convolve = lambda a, b: tf.nn.conv2d(a, b, strides=[1, stride, stride, 1], padding=padding)\n",
    "\n",
    "    with tf.variable_scope(name) as scope:\n",
    "        w = tf.get_variable(\"w\", shape=[filter_size, filter_size, int(channels/groups), num_filters])\n",
    "        b = tf.get_variable(\"b\", shape=[num_filters])\n",
    "\n",
    "        if groups == 1:\n",
    "            conv = convolve(x, w)   \n",
    "        else:\n",
    "            input_groups = tf.split(axis=3, num_or_size_splits=groups, value=x)\n",
    "            weights_groups = tf.split(axis=3, num_or_size_splits=groups, value=w)\n",
    "            output_groups = [convolve(i, k) for i, k in zip(input_groups, weights_groups)]\n",
    "            \n",
    "            conv = tf.concat(axis=3, values=output_groups)\n",
    "\n",
    "        output = tf.reshape(tf.nn.bias_add(conv, b), conv.shape.as_list())\n",
    "        relu = tf.nn.relu(output)\n",
    "\n",
    "        return relu"
   ]
  },
  {
   "cell_type": "code",
   "execution_count": 39,
   "metadata": {},
   "outputs": [],
   "source": [
    "def max_pool(x, filter_size, stride, name, padding='SAME'):\n",
    "        return tf.nn.max_pool(x, ksize=[1, filter_size, filter_size, 1], \n",
    "                              strides = [1, stride, stride, 1], padding=padding, name=name)"
   ]
  },
  {
   "cell_type": "code",
   "execution_count": 40,
   "metadata": {},
   "outputs": [],
   "source": [
    "def lrn(x, name, radius=5, alpha=0.0001, beta=0.75, bias=2.0):\n",
    "        return tf.nn.local_response_normalization(x, depth_radius=radius, alpha=alpha, beta=beta, bias=bias, name=name)"
   ]
  },
  {
   "cell_type": "code",
   "execution_count": 41,
   "metadata": {},
   "outputs": [],
   "source": [
    "def fc(x, dim_in, dim_out, name, drop_ratio=0, relu=True):\n",
    "    with tf.variable_scope(name) as scope:\n",
    "        w = tf.get_variable(\"w\", shape=[dim_in, dim_out], trainable=True)\n",
    "        b = tf.get_variable(\"b\", [dim_out], trainable=True)\n",
    "\n",
    "        output = tf.nn.xw_plus_b(x, w, b, name=scope.name)\n",
    "\n",
    "        if relu == True:\n",
    "            relu = tf.nn.relu(output)       \n",
    "            if drop_ratio == 0:\n",
    "                return relu\n",
    "            else:\n",
    "                return tf.nn.dropout(relu, drop_ratio)\n",
    "\n",
    "        else:\n",
    "            if drop_ratio == 0:\n",
    "                return output\n",
    "            else:\n",
    "                return tf.nn.dropout(output, drop_ratio)"
   ]
  },
  {
   "cell_type": "markdown",
   "metadata": {},
   "source": [
    "### Build Model"
   ]
  },
  {
   "cell_type": "code",
   "execution_count": 80,
   "metadata": {},
   "outputs": [],
   "source": [
    "tf.reset_default_graph()\n",
    "\n",
    "X = tf.placeholder(tf.float32,shape=[1, 256, 256, 3], name=\"X\")  \n",
    "Y = tf.placeholder(tf.float32,shape=(None, 200), name=\"Y\")\n",
    "\n",
    "conv1 = conv(X,11,96,4,name=\"conv1\", padding=\"VALID\")\n",
    "pool1 = max_pool(conv1, filter_size=3, stride=2, name=\"pool1\", padding=\"VALID\")\n",
    "lrn1 = lrn(pool1, name=\"lrn1\")\n",
    "\n",
    "conv2 = conv(lrn1,5,256,1,name=\"conv2\", groups=2)\n",
    "pool2 = max_pool(conv2, filter_size=3, stride=2, name=\"pool2\", padding=\"VALID\")\n",
    "lrn2 = lrn(pool2, name=\"norm2\")\n",
    "\n",
    "conv3 = conv(lrn2, 3, 384, 1, name=\"conv3\")\n",
    "\n",
    "conv4 = conv(conv3, 3, 384, 1, name=\"conv4\", groups=2)\n",
    "\n",
    "conv5 = conv(conv4, 3, 256, 1, name=\"conv5\", groups=2)\n",
    "pool5 = max_pool(conv5, filter_size=3, stride=2, name=\"pool5\", padding=\"VALID\")\n",
    "\n",
    "flattened = tf.reshape(pool5, [-1,6*6*256])\n",
    "fc6 = fc(flattened, dim_in=6*6*256, dim_out=4096, name=\"fc6\", drop_ratio=0.5, relu=True)\n",
    "\n",
    "fc7 = fc(fc6, dim_in=4096, dim_out=4096, name=\"fc7\", drop_ratio=0.5, relu=True)\n",
    "\n",
    "fc8 = fc(fc7, dim_in=4096, dim_out=200, name=\"fc8\", drop_ratio=0, relu=False)"
   ]
  },
  {
   "cell_type": "markdown",
   "metadata": {},
   "source": [
    "### Run Model"
   ]
  },
  {
   "cell_type": "code",
   "execution_count": 43,
   "metadata": {},
   "outputs": [],
   "source": [
    "batch_size = 1\n",
    "n_dim = [1, 256, 256, 3]\n",
    "n_classes = 200\n",
    "alpha = 0.001\n",
    "epochs = 1"
   ]
  },
  {
   "cell_type": "code",
   "execution_count": 81,
   "metadata": {},
   "outputs": [],
   "source": [
    "cost_function = tf.reduce_mean(tf.nn.softmax_cross_entropy_with_logits(labels=Y, logits=fc8))\n",
    "optimizer = tf.train.AdamOptimizer(alpha).minimize(cost_function)\n",
    "correct_prediction = tf.equal(tf.argmax(fc8,1), tf.argmax(Y,1))\n",
    "accuracy = tf.reduce_mean(tf.cast(correct_prediction, tf.float32))\n",
    "# saver = tf.train.Saver()\n",
    "\n",
    "init = tf.global_variables_initializer()"
   ]
  },
  {
   "cell_type": "code",
   "execution_count": 91,
   "metadata": {},
   "outputs": [
    {
     "name": "stdout",
     "output_type": "stream",
     "text": [
      "Epoch: 0 Cost: 5.15249\n"
     ]
    }
   ],
   "source": [
    "cost_history = np.empty(shape=[1],dtype=float)\n",
    "y_true, y_pred = None, None\n",
    "\n",
    "with tf.Session() as sess:\n",
    "    sess.run(init)\n",
    "    for epoch in range(epochs):\n",
    "   \n",
    "        offset = (epoch * batch_size) % (len(y_test) - batch_size)\n",
    "        batch_x = x_test[offset:offset + batch_size]\n",
    "        batch_y = y_test[offset:offset + batch_size]\n",
    "        \n",
    "        _,cost = sess.run([optimizer,cost_function],feed_dict={X:batch_x,Y:batch_y})\n",
    "        \n",
    "        if epoch % 100 == 0:\n",
    "            print(\"Epoch:\", epoch, \"Cost:\", cost)\n",
    "        cost_history = np.append(cost_history, cost)"
   ]
  }
 ],
 "metadata": {
  "kernelspec": {
   "display_name": "Python 3",
   "language": "python",
   "name": "python3"
  },
  "language_info": {
   "codemirror_mode": {
    "name": "ipython",
    "version": 3
   },
   "file_extension": ".py",
   "mimetype": "text/x-python",
   "name": "python",
   "nbconvert_exporter": "python",
   "pygments_lexer": "ipython3",
   "version": "3.6.4"
  }
 },
 "nbformat": 4,
 "nbformat_minor": 2
}
