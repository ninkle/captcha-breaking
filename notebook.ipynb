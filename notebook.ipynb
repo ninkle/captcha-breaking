{
 "cells": [
  {
   "cell_type": "code",
   "execution_count": 9,
   "metadata": {},
   "outputs": [],
   "source": [
    "import os\n",
    "import json\n",
    "from time import clock\n",
    "from PIL import Image\n",
    "from skimage.measure import block_reduce\n",
    "from scipy.misc import imread\n",
    "import matplotlib.pyplot as plt\n",
    "import numpy as np\n",
    "import tensorflow as tf"
   ]
  },
  {
   "cell_type": "markdown",
   "metadata": {},
   "source": [
    "## Loading Tiny ImageNet"
   ]
  },
  {
   "cell_type": "code",
   "execution_count": 197,
   "metadata": {},
   "outputs": [
    {
     "ename": "KeyboardInterrupt",
     "evalue": "",
     "output_type": "error",
     "traceback": [
      "\u001b[0;31m---------------------------------------------------------------------------\u001b[0m",
      "\u001b[0;31mKeyboardInterrupt\u001b[0m                         Traceback (most recent call last)",
      "\u001b[0;32m<ipython-input-197-5cd43badc5d7>\u001b[0m in \u001b[0;36m<module>\u001b[0;34m()\u001b[0m\n\u001b[1;32m      5\u001b[0m         \u001b[0;32mif\u001b[0m \u001b[0msubfolder\u001b[0m \u001b[0;34m==\u001b[0m \u001b[0;34m\"images\"\u001b[0m\u001b[0;34m:\u001b[0m\u001b[0;34m\u001b[0m\u001b[0m\n\u001b[1;32m      6\u001b[0m             \u001b[0;32mfor\u001b[0m \u001b[0mfile\u001b[0m \u001b[0;32min\u001b[0m \u001b[0mos\u001b[0m\u001b[0;34m.\u001b[0m\u001b[0mlistdir\u001b[0m\u001b[0;34m(\u001b[0m\u001b[0;34m\"tiny-imagenet-200/train/\"\u001b[0m\u001b[0;34m+\u001b[0m\u001b[0mfolder\u001b[0m\u001b[0;34m+\u001b[0m\u001b[0;34m\"/\"\u001b[0m\u001b[0;34m+\u001b[0m\u001b[0msubfolder\u001b[0m\u001b[0;34m)\u001b[0m\u001b[0;34m:\u001b[0m\u001b[0;34m\u001b[0m\u001b[0m\n\u001b[0;32m----> 7\u001b[0;31m                 \u001b[0mimg\u001b[0m \u001b[0;34m=\u001b[0m \u001b[0mImage\u001b[0m\u001b[0;34m.\u001b[0m\u001b[0mopen\u001b[0m\u001b[0;34m(\u001b[0m\u001b[0;34m\"tiny-imagenet-200/train/\"\u001b[0m\u001b[0;34m+\u001b[0m\u001b[0mfolder\u001b[0m\u001b[0;34m+\u001b[0m\u001b[0;34m\"/\"\u001b[0m\u001b[0;34m+\u001b[0m\u001b[0msubfolder\u001b[0m\u001b[0;34m+\u001b[0m\u001b[0;34m\"/\"\u001b[0m\u001b[0;34m+\u001b[0m\u001b[0mfile\u001b[0m\u001b[0;34m,\u001b[0m \u001b[0;34m\"r\"\u001b[0m\u001b[0;34m)\u001b[0m\u001b[0;34m\u001b[0m\u001b[0m\n\u001b[0m\u001b[1;32m      8\u001b[0m                 \u001b[0;32mif\u001b[0m \u001b[0mfile\u001b[0m\u001b[0;34m[\u001b[0m\u001b[0;34m:\u001b[0m\u001b[0;36m9\u001b[0m\u001b[0;34m]\u001b[0m \u001b[0;32min\u001b[0m \u001b[0mdata\u001b[0m\u001b[0;34m.\u001b[0m\u001b[0mkeys\u001b[0m\u001b[0;34m(\u001b[0m\u001b[0;34m)\u001b[0m\u001b[0;34m:\u001b[0m\u001b[0;34m\u001b[0m\u001b[0m\n\u001b[1;32m      9\u001b[0m                     \u001b[0mdata\u001b[0m\u001b[0;34m[\u001b[0m\u001b[0mfile\u001b[0m\u001b[0;34m[\u001b[0m\u001b[0;34m:\u001b[0m\u001b[0;36m9\u001b[0m\u001b[0;34m]\u001b[0m\u001b[0;34m]\u001b[0m\u001b[0;34m.\u001b[0m\u001b[0mappend\u001b[0m\u001b[0;34m(\u001b[0m\u001b[0mnp\u001b[0m\u001b[0;34m.\u001b[0m\u001b[0marray\u001b[0m\u001b[0;34m(\u001b[0m\u001b[0mimg\u001b[0m\u001b[0;34m)\u001b[0m\u001b[0;34m)\u001b[0m\u001b[0;34m\u001b[0m\u001b[0m\n",
      "\u001b[0;32m~/anaconda/lib/python3.6/site-packages/PIL/Image.py\u001b[0m in \u001b[0;36mopen\u001b[0;34m(fp, mode)\u001b[0m\n\u001b[1;32m   2310\u001b[0m \u001b[0;34m\u001b[0m\u001b[0m\n\u001b[1;32m   2311\u001b[0m     \u001b[0;32mif\u001b[0m \u001b[0mfilename\u001b[0m\u001b[0;34m:\u001b[0m\u001b[0;34m\u001b[0m\u001b[0m\n\u001b[0;32m-> 2312\u001b[0;31m         \u001b[0mfp\u001b[0m \u001b[0;34m=\u001b[0m \u001b[0mbuiltins\u001b[0m\u001b[0;34m.\u001b[0m\u001b[0mopen\u001b[0m\u001b[0;34m(\u001b[0m\u001b[0mfilename\u001b[0m\u001b[0;34m,\u001b[0m \u001b[0;34m\"rb\"\u001b[0m\u001b[0;34m)\u001b[0m\u001b[0;34m\u001b[0m\u001b[0m\n\u001b[0m\u001b[1;32m   2313\u001b[0m \u001b[0;34m\u001b[0m\u001b[0m\n\u001b[1;32m   2314\u001b[0m     \u001b[0;32mtry\u001b[0m\u001b[0;34m:\u001b[0m\u001b[0;34m\u001b[0m\u001b[0m\n",
      "\u001b[0;31mKeyboardInterrupt\u001b[0m: "
     ]
    }
   ],
   "source": [
    "data = {}\n",
    "t1 = clock()\n",
    "for folder in os.listdir(\"tiny-imagenet-200/train\"):\n",
    "    for subfolder in os.listdir(\"tiny-imagenet-200/train/\"+folder):\n",
    "        if subfolder == \"images\":\n",
    "            for file in os.listdir(\"tiny-imagenet-200/train/\"+folder+\"/\"+subfolder):\n",
    "                img = Image.open(\"tiny-imagenet-200/train/\"+folder+\"/\"+subfolder+\"/\"+file, \"r\")\n",
    "                if file[:9] in data.keys():\n",
    "                    data[file[:9]].append(np.array(img))\n",
    "                else:\n",
    "                    data[file[:9]] = [np.array(img)]\n",
    "t2 = clock()\n",
    "print(\"Total time elapsed:\", t2-t1)"
   ]
  },
  {
   "cell_type": "code",
   "execution_count": 13,
   "metadata": {},
   "outputs": [
    {
     "name": "stdout",
     "output_type": "stream",
     "text": [
      "A sample pixel array for image class n02795169:\n",
      "(64, 64, 3)\n"
     ]
    },
    {
     "data": {
      "image/png": "[encoded data removed]",
      "text/plain": [
       "<matplotlib.figure.Figure at 0x1c11913be0>"
      ]
     },
     "metadata": {},
     "output_type": "display_data"
    }
   ],
   "source": [
    "# let's preview a single item in the data dictionary\n",
    "for im, arrs in data.items():\n",
    "    print(\"A sample pixel array for image class\", im+\":\") \n",
    "    print(arrs[0])\n",
    "    plt.imshow(arrs[0])\n",
    "    break\n",
    "plt.show()"
   ]
  },
  {
   "cell_type": "markdown",
   "metadata": {},
   "source": [
    "## Building Alexnet"
   ]
  },
  {
   "cell_type": "markdown",
   "metadata": {},
   "source": [
    "### Helper Functions:"
   ]
  },
  {
   "cell_type": "code",
   "execution_count": 60,
   "metadata": {},
   "outputs": [],
   "source": [
    "def conv(x, filter_height, filter_width, num_filters, stride_height, stride_width, name, padding=\"SAME\", groups=1):\n",
    "    channels = int(x.shape[-1])\n",
    "    \n",
    "    # create lambda function for convolution\n",
    "    convolve = lambda a, b: tf.nn.conv2d(a, b, strides=[1, stride_height, stride_width, 1], padding=padding)\n",
    "    \n",
    "    with tf.variable_scope(name) as scope:\n",
    "        w = tf.get_variable(\"w\", shape=[filter_height, filter_width, int(channels/groups), num_filters])\n",
    "        b = tf.get_variable(\"b\", shape=[num_filters])\n",
    "        \n",
    "        conv = convolve(x, w)    \n",
    "        output = tf.reshape(tf.nn.bias_add(conv, b), conv.shape.as_list())\n",
    "        relu = tf.nn.relu(output, name=scope.name)\n",
    "        \n",
    "        return relu  "
   ]
  },
  {
   "cell_type": "code",
   "execution_count": 189,
   "metadata": {},
   "outputs": [],
   "source": [
    "def fully_connected(x, dim_in, dim_out, name):\n",
    "    with tf.variable_scope(name) as scope:\n",
    "        w = tf.get_variable(\"w\", shape=[dim_in, 1], trainable=True)\n",
    "        b = tf.get_variable(\"b\", [dim_out], trainable=True)\n",
    "        \n",
    "        output = tf.tensordot(x, w, axes=1) + b\n",
    "        relu = tf.nn.relu(output) \n",
    "        \n",
    "        return relu"
   ]
  },
  {
   "cell_type": "code",
   "execution_count": 62,
   "metadata": {},
   "outputs": [],
   "source": [
    "def max_pool(x, filter_height, filter_width, stride_height, stride_width, name, padding='SAME'):\n",
    "  return tf.nn.max_pool(x, ksize=[1, filter_height, filter_width, 1], \n",
    "                        strides = [1, stride_height, stride_width, 1], padding=padding, name=name)"
   ]
  },
  {
   "cell_type": "code",
   "execution_count": 63,
   "metadata": {},
   "outputs": [],
   "source": [
    "def lrn(x, name, radius=5, alpha=0.0001, beta=0.75, bias=2.0):\n",
    "  return tf.nn.local_response_normalization(x, depth_radius=radius, alpha=alpha, beta=beta, bias=bias, name=name)"
   ]
  },
  {
   "cell_type": "code",
   "execution_count": 64,
   "metadata": {},
   "outputs": [],
   "source": [
    "def dropout(x, keep_prob):\n",
    "  return tf.nn.dropout(x, keep_prob)"
   ]
  },
  {
   "cell_type": "markdown",
   "metadata": {},
   "source": [
    "### Graph:"
   ]
  },
  {
   "cell_type": "markdown",
   "metadata": {},
   "source": [
    "Let:  \n",
    "$n$ = the number of filters,    \n",
    "$f$ = the filter size,   \n",
    "$s$ = the stride\n",
    "\n",
    "**Input Layer**: image of dimension `64x64x3`.\n",
    "\n",
    "**First Convolutional Layer**: \n"
   ]
  },
  {
   "cell_type": "code",
   "execution_count": 65,
   "metadata": {},
   "outputs": [],
   "source": [
    "# parameters\n",
    "batch_size = 1\n",
    "n_dim = [batch_size, 64, 64, 3]\n",
    "n_classes = 1000"
   ]
  },
  {
   "cell_type": "code",
   "execution_count": 196,
   "metadata": {},
   "outputs": [
    {
     "name": "stdout",
     "output_type": "stream",
     "text": [
      "X.shape: (1, 64, 64, 3)\n",
      "\n",
      "\n",
      "c1.shape: (1, 22, 22, 96)\n",
      "pool1.shape: (1, 11, 11, 96)\n",
      "\n",
      "\n",
      "c2.shape: (1, 11, 11, 256)\n",
      "pool2.shape (1, 6, 6, 256)\n",
      "\n",
      "\n",
      "c3.shape (1, 6, 6, 384)\n",
      "\n",
      "\n",
      "c4.shape (1, 6, 6, 384)\n",
      "\n",
      "\n",
      "c5.shape (1, 6, 6, 384)\n",
      "pool5.shape (1, 3, 3, 384)\n",
      "flattened.shape: (3456, 1)\n",
      "\n",
      "\n",
      "fc6.shape: (3456, 1)\n",
      "\n",
      "\n",
      "fc7.shape: (3456, 1)\n"
     ]
    }
   ],
   "source": [
    "tf.reset_default_graph()\n",
    "\n",
    "X = tf.placeholder(tf.float32,shape=n_dim)  \n",
    "Y = tf.placeholder(tf.float32,[None,n_classes])\n",
    "\n",
    "# first layer: conv -> pool -> lrn\n",
    "print(\"X.shape:\", X.shape)\n",
    "\n",
    "print(\"\\n\")\n",
    "\n",
    "c1 = conv(X, filter_height=11, filter_width=11, num_filters=96, stride_height=3, stride_width=3, name=\"c1\")\n",
    "print(\"c1.shape:\", c1.shape)\n",
    "pool1 = max_pool(c1, filter_height=3, filter_width=3, stride_height=2, stride_width=2, name=\"pool1\")\n",
    "print(\"pool1.shape:\", pool1.shape)\n",
    "lrn1 = lrn(pool1, name=\"lrn1\")\n",
    "\n",
    "print(\"\\n\")\n",
    "\n",
    "# second layer: conv -> pool -> lrn\n",
    "c2 = conv(lrn1, filter_height=5, filter_width=5, num_filters=256, stride_height=1, stride_width=1, name=\"c2\")\n",
    "print(\"c2.shape:\", c2.shape)\n",
    "pool2 = max_pool(c2, filter_height=3, filter_width=3, stride_height=2, stride_width=2, name=\"pool2\")\n",
    "print(\"pool2.shape\", pool2.shape)\n",
    "lrn2 = lrn(pool2, name=\"lrn2\")\n",
    "\n",
    "print(\"\\n\")\n",
    "\n",
    "# third layer: conv\n",
    "c3 = conv(lrn2, filter_height=3, filter_width=3, num_filters=384, stride_height=1, stride_width=1, name=\"c3\")\n",
    "print(\"c3.shape\", c3.shape)\n",
    "\n",
    "print(\"\\n\")\n",
    "\n",
    "# fourth layer: conv\n",
    "c4 = conv(c3, filter_height=3, filter_width=3, num_filters=384, stride_height=1, stride_width=1, name=\"c4\")\n",
    "print(\"c4.shape\", c4.shape)\n",
    "\n",
    "print(\"\\n\")\n",
    "\n",
    "# fifth layer: conv -> pool\n",
    "c5 = conv(c4, filter_height=3, filter_width=3, num_filters=384, stride_height=1, stride_width=1, name=\"c5\")\n",
    "print(\"c5.shape\", c5.shape)\n",
    "pool5 = max_pool(c5, filter_height=3, filter_width=3, stride_height=2, stride_width=2, name=\"pool5\")\n",
    "print(\"pool5.shape\", pool5.shape)\n",
    "\n",
    "# reshape fifth conv layer to fit fully-connected layer\n",
    "# shape = np.prod([i for i in pool5.shape])\n",
    "shape = np.prod(pool5.get_shape().as_list())\n",
    "flattened = tf.reshape(pool5, [shape, 1])\n",
    "print(\"flattened.shape:\", flattened.shape)\n",
    "\n",
    "print(\"\\n\")\n",
    "\n",
    "# sixth layer: fully-connected\n",
    "fc6 = fully_connected(flattened, dim_in=flattened.shape[0], dim_out=flattened.shape[0], name=\"fc6\")\n",
    "fc6.set_shape([shape, 1])\n",
    "print(\"fc6.shape:\", fc6.get_shape())\n",
    "\n",
    "print(\"\\n\")\n",
    "\n",
    "# seventh layer: fully connected\n",
    "fc7 = fully_connected(fc6, dim_in=fc6.shape[1], dim_out=fc6.shape[1], name=\"fc7\")\n",
    "fc7.set_shape([shape, 1])\n",
    "print(\"fc7.shape:\", fc7.shape)\n",
    "\n",
    "\n",
    "model = tf.global_variables_initializer()"
   ]
  },
  {
   "cell_type": "markdown",
   "metadata": {},
   "source": [
    "## Preprocessing CAPTCHA images\n",
    "\n",
    "As with the ImageNet data, we need virtually no preprocessing, save for downsampling the images (currently `100x100`) to fit the dimensions of our input layer (`64x64`)."
   ]
  },
  {
   "cell_type": "code",
   "execution_count": 19,
   "metadata": {},
   "outputs": [],
   "source": [
    "# iterate through recaptcha dataset\n",
    "for folder in os.listdir(\"recapt_offline\"):\n",
    "    if folder != \".DS_Store\":\n",
    "        for file in os.listdir(\"recapt_offline/\"+folder):\n",
    "            if file == \"info.txt\":\n",
    "                json_string = open(\"recapt_offline/\"+folder+\"/\"+file, \"r\")\n",
    "                json_dict = json.load(json_string)  # convert json to dict\n",
    "                \n",
    "                correct = json_dict[\"correct_answer\"]  # array of numbers containing indices (1-9) of correct images\n",
    "                target = json_dict[\"desc\"][\"keyword\"]  # string representing target image (e.g. \"cake\")\n",
    "                \n",
    "            if \"cand\" in file:\n",
    "                img = Image.open(\"recapt_offline/\"+folder+\"/\"+file, \"r\")\n",
    "                downsampled = block_reduce(np.array(img), block_size=(2, 2, 1), func=np.mean)\n",
    "                # print(downsampled)\n",
    "                new = Image.fromarray(downsampled, 'RGB')\n",
    "                # plt.figure()\n",
    "                # plt.imshow(downsampled, interpolation=\"None\")\n",
    "                # plt.show()"
   ]
  }
 ],
 "metadata": {
  "kernelspec": {
   "display_name": "Python 3",
   "language": "python",
   "name": "python3"
  },
  "language_info": {
   "codemirror_mode": {
    "name": "ipython",
    "version": 3
   },
   "file_extension": ".py",
   "mimetype": "text/x-python",
   "name": "python",
   "nbconvert_exporter": "python",
   "pygments_lexer": "ipython3",
   "version": "3.6.4"
  }
 },
 "nbformat": 4,
 "nbformat_minor": 2
}
