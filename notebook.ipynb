{
 "cells": [
  {
   "cell_type": "code",
   "execution_count": 25,
   "metadata": {},
   "outputs": [],
   "source": [
    "import os\n",
    "import json\n",
    "from scipy import misc\n",
    "import numpy as np\n",
    "import tensorflow as tf"
   ]
  },
  {
   "cell_type": "code",
   "execution_count": 33,
   "metadata": {},
   "outputs": [],
   "source": [
    "# iterate through recaptcha dataset\n",
    "for folder in os.listdir(\"recapt_offline\"):\n",
    "    if folder != \".DS_Store\":\n",
    "        for file in os.listdir(\"recapt_offline/\"+folder):\n",
    "            if file == \"info.txt\":\n",
    "                json_string = open(\"recapt_offline/\"+folder+\"/\"+file, \"r\")\n",
    "                json_dict = json.load(json_string)  # convert json to dict\n",
    "                \n",
    "                correct = json_dict[\"correct_answer\"]  # array of numbers containing indices (1-9) of correct images\n",
    "                target = json_dict[\"desc\"][\"keyword\"]  # string representing target image (e.g. \"cake\")\n",
    "                \n",
    "            if \"cand\" in file:\n",
    "                arr = np.array(misc.imread(\"recapt_offline/\"+folder+\"/\"+file))"
   ]
  }
 ],
 "metadata": {
  "kernelspec": {
   "display_name": "Python 3",
   "language": "python",
   "name": "python3"
  },
  "language_info": {
   "codemirror_mode": {
    "name": "ipython",
    "version": 3
   },
   "file_extension": ".py",
   "mimetype": "text/x-python",
   "name": "python",
   "nbconvert_exporter": "python",
   "pygments_lexer": "ipython3",
   "version": "3.6.3"
  }
 },
 "nbformat": 4,
 "nbformat_minor": 2
}
